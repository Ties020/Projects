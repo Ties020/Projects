{
  "cells": [
    {
      "cell_type": "code",
      "execution_count": null,
      "metadata": {
        "id": "8RZOuS9LWQvv",
        "collapsed": true
      },
      "outputs": [],
      "source": [
        "# import libraries\n",
        "try:\n",
        "  # %tensorflow_version only exists in Colab.\n",
        "  !pip install tf-nightly\n",
        "except Exception:\n",
        "  pass\n",
        "import tensorflow as tf\n",
        "import pandas as pd\n",
        "from tensorflow import keras\n",
        "!pip install tensorflow-datasets\n",
        "import tensorflow_datasets as tfds\n",
        "import numpy as np\n",
        "import matplotlib.pyplot as plt\n",
        "from tensorflow.keras.preprocessing.text import Tokenizer\n",
        "from tensorflow.keras.preprocessing.sequence import pad_sequences\n",
        "from tensorflow.keras.optimizers import Adam\n",
        "\n",
        "\n",
        "\n",
        "print(tf.__version__)"
      ]
    },
    {
      "cell_type": "code",
      "execution_count": null,
      "metadata": {
        "id": "lMHwYXHXCar3"
      },
      "outputs": [],
      "source": [
        "# get data files\n",
        "!wget https://cdn.freecodecamp.org/project-data/sms/train-data.tsv\n",
        "!wget https://cdn.freecodecamp.org/project-data/sms/valid-data.tsv\n",
        "\n",
        "train_file_path = \"train-data.tsv\"\n",
        "test_file_path = \"valid-data.tsv\""
      ]
    },
    {
      "cell_type": "code",
      "source": [
        "train_df = pd.read_csv(train_file_path, sep=\"\\t\", header=None, names=[\"label\", \"sentence\"])\n",
        "test_df = pd.read_csv(test_file_path, sep=\"\\t\", header=None, names=[\"label\", \"sentence\"])\n",
        "\n",
        "train_data = train_df[\"sentence\"].tolist()\n",
        "test_data = test_df[\"sentence\"].tolist()\n",
        "\n",
        "train_labels = train_df[\"label\"].tolist()\n",
        "test_labels = test_df[\"label\"].tolist()"
      ],
      "metadata": {
        "id": "dEKZeRYJQWfV"
      },
      "execution_count": null,
      "outputs": []
    },
    {
      "cell_type": "code",
      "source": [
        "label_map = {\"ham\": 0, \"spam\": 1}\n",
        "train_labels_encoded = np.array([label_map[label] for label in train_labels])\n",
        "test_labels_encoded = np.array([label_map[label] for label in test_labels])"
      ],
      "metadata": {
        "id": "UMmX-AdxUzsQ"
      },
      "execution_count": null,
      "outputs": []
    },
    {
      "cell_type": "code",
      "source": [
        "tokenizer = Tokenizer(num_words=1000)  #num_words not necessary\n",
        "tokenizer.fit_on_texts(train_data)\n",
        "\n",
        "train_sequences = tokenizer.texts_to_sequences(train_data)\n",
        "test_sequences = tokenizer.texts_to_sequences(test_data)\n",
        "\n",
        "max_length = 500\n",
        "\n",
        "train_padded = pad_sequences(train_sequences, maxlen=max_length)\n",
        "test_padded = pad_sequences(test_sequences, maxlen=max_length)\n",
        "\n",
        "print(\"Train data shape:\", train_padded.shape)\n",
        "print(\"Test data shape:\", test_padded.shape)\n",
        "print(\"Train labels shape:\", train_labels_encoded.shape)\n",
        "print(\"Test labels shape:\", test_labels_encoded.shape)\n",
        "print(\"Train labels distribution:\", np.bincount(train_labels_encoded))\n",
        "print(\"Test labels distribution:\", np.bincount(test_labels_encoded))"
      ],
      "metadata": {
        "id": "Wf-Ft1oIThdM"
      },
      "execution_count": null,
      "outputs": []
    },
    {
      "cell_type": "code",
      "execution_count": null,
      "metadata": {
        "id": "g_h508FEClxO"
      },
      "outputs": [],
      "source": [
        "i = tf.keras.layers.Input(shape=[500])\n",
        "x = tf.keras.layers.Embedding(10000, 50, input_length=500)(i)\n",
        "x = tf.keras.layers.LSTM(64)(x)\n",
        "\n",
        "x = tf.keras.layers.Dense(256, activation='relu')(x)\n",
        "x = tf.keras.layers.Dropout(0.5)(x)\n",
        "x = tf.keras.layers.Dense(1, activation='relu')(x)\n",
        "\n",
        "model = tf.keras.models.Model(inputs=i, outputs=x)\n",
        "\n",
        "#model = keras.Sequential([\n",
        "#  keras.layers.Embedding(10000, 64, input_length=100),\n",
        " # keras.layers.LSTM(64),\n",
        "  #keras.layers.Flatten(),\n",
        "  #keras.layers.Dense(64, activation='relu'),\n",
        "  #keras.layers.Dense(1, activation='sigmoid')\n",
        "#])\n",
        "\n",
        "model.compile(loss='binary_crossentropy',\n",
        "              optimizer='adam',\n",
        "              metrics=['accuracy'])\n",
        "\n",
        "model.summary()\n"
      ]
    },
    {
      "cell_type": "code",
      "execution_count": null,
      "metadata": {
        "id": "zOMKywn4zReN"
      },
      "outputs": [],
      "source": [
        "#model.fit(train_padded, train_labels_encoded, epochs=5, batch_size=32, validation_data=(test_padded, test_labels_encoded))\n",
        "model.fit(train_padded, train_labels_encoded,\n",
        "             batch_size=128, epochs=10,\n",
        "              validation_split=0.2,\n",
        "              callbacks=[tf.keras.callbacks.EarlyStopping(\n",
        "                  monitor='val_loss', min_delta=0.0001)])"
      ]
    },
    {
      "cell_type": "code",
      "execution_count": null,
      "metadata": {
        "id": "J9tD9yACG6M9"
      },
      "outputs": [],
      "source": [
        "# function to predict messages based on model\n",
        "# (should return list containing prediction and label, ex. [0.008318834938108921, 'ham'])\n",
        "def predict_message(pred_text):\n",
        "  pred_text = [pred_text]\n",
        "\n",
        "  tokenizer = Tokenizer(num_words=1000)\n",
        "\n",
        "  tokenizer.fit_on_texts(pred_text)\n",
        "\n",
        "  single_sequence = tokenizer.texts_to_sequences(pred_text)\n",
        "  single_padded = pad_sequences(single_sequence, maxlen=500, padding='post', truncating='post')\n",
        "  print(\"Padded\",single_padded)\n",
        "\n",
        "  prediction = model.predict(single_padded)\n",
        "  if prediction < 0.5:\n",
        "    predicted_label = 'ham'\n",
        "  else:\n",
        "    predicted_label = 'spam'\n",
        "\n",
        "  final_prediction= [prediction[0][0], predicted_label]\n",
        "  print(final_prediction)\n",
        "  return final_prediction\n",
        "\n",
        "pred_text = \"how are you doing today?\"\n",
        "\n",
        "prediction = predict_message(pred_text)\n",
        "print(prediction)"
      ]
    },
    {
      "cell_type": "code",
      "execution_count": null,
      "metadata": {
        "id": "Dxotov85SjsC"
      },
      "outputs": [],
      "source": [
        "# Run this cell to test your function and model. Do not modify contents.\n",
        "def test_predictions():\n",
        "  test_messages = [\"how are you doing today\",\n",
        "                   \"sale today! to stop texts call 98912460324\",\n",
        "                   \"i dont want to go. can we try it a different day? available sat\",\n",
        "                   \"our new mobile video service is live. just install on your phone to start watching.\",\n",
        "                   \"you have won £1000 cash! call to claim your prize.\",\n",
        "                   \"i'll bring it tomorrow. don't forget the milk.\",\n",
        "                   \"wow, is your arm alright. that happened to me one time too\"\n",
        "                  ]\n",
        "\n",
        "  test_answers = [\"ham\", \"spam\", \"ham\", \"spam\", \"spam\", \"ham\", \"ham\"]\n",
        "  passed = True\n",
        "\n",
        "  for msg, ans in zip(test_messages, test_answers):\n",
        "    prediction = predict_message(msg)\n",
        "    if prediction[1] != ans:\n",
        "      passed = False\n",
        "\n",
        "  if passed:\n",
        "    print(\"You passed the challenge. Great job!\")\n",
        "  else:\n",
        "    print(\"You haven't passed yet. Keep trying.\")\n",
        "\n",
        "test_predictions()\n"
      ]
    }
  ],
  "metadata": {
    "colab": {
      "name": "fcc_sms_text_classification.ipynb",
      "private_outputs": true,
      "provenance": [],
      "toc_visible": true,
      "gpuType": "T4"
    },
    "kernelspec": {
      "display_name": "Python 3",
      "name": "python3"
    },
    "language_info": {},
    "accelerator": "GPU"
  },
  "nbformat": 4,
  "nbformat_minor": 0
}