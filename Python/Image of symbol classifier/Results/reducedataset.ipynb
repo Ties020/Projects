{
  "nbformat": 4,
  "nbformat_minor": 0,
  "metadata": {
    "colab": {
      "provenance": []
    },
    "kernelspec": {
      "name": "python3",
      "display_name": "Python 3"
    },
    "language_info": {
      "name": "python"
    }
  },
  "cells": [
    {
      "cell_type": "code",
      "execution_count": 1,
      "metadata": {
        "colab": {
          "base_uri": "https://localhost:8080/"
        },
        "id": "a82QKASYO2bX",
        "outputId": "f17aac58-d62e-4f2d-ebf6-d724e3cfede3"
      },
      "outputs": [
        {
          "output_type": "stream",
          "name": "stdout",
          "text": [
            "Mounted at /content/drive\n"
          ]
        }
      ],
      "source": [
        "import tarfile\n",
        "import random\n",
        "import os\n",
        "from google.colab import drive\n",
        "drive.mount('/content/drive')"
      ]
    },
    {
      "cell_type": "code",
      "source": [
        "path = '/content/drive/MyDrive/'\n",
        "# os.mkdir('/content/temp')\n",
        "temp_path = ('/content/temp/')"
      ],
      "metadata": {
        "id": "Wo4Haq1saSHl"
      },
      "execution_count": 20,
      "outputs": []
    },
    {
      "cell_type": "code",
      "source": [
        "partitions = ['train', 'test', 'valid']\n",
        "\n",
        "with tarfile.open(path + 'mathwriting-2024.tgz', 'r:gz') as tar_data:\n",
        "    all_content = tar_data.getnames()\n",
        "    random.shuffle(all_content)\n",
        "    partition_files = {part: [] for part in partitions}\n",
        "    for file in all_content:\n",
        "        if 'train' in file:\n",
        "            partition_files['train'].append(file)\n",
        "        elif 'test' in file:\n",
        "            partition_files['test'].append(file)\n",
        "        elif 'valid' in file:\n",
        "            partition_files['valid'].append(file)\n",
        "\n",
        "for index, files in partition_files.items():\n",
        "    total_len = len(files)\n",
        "    if index == 'train':\n",
        "        part_size = 0.07\n",
        "    elif index =='test':\n",
        "        part_size = 1\n",
        "    else:\n",
        "        part_size = 0.16\n",
        "    size = int(total_len * part_size)\n",
        "    reduced_files = files[:size]\n",
        "    partition_files[index] = reduced_files"
      ],
      "metadata": {
        "id": "EW3reU2HO_A_"
      },
      "execution_count": 2,
      "outputs": []
    },
    {
      "cell_type": "code",
      "source": [
        "with tarfile.open(path + 'mathwriting-2024.tgz', 'r:gz') as tar_data:\n",
        "    files_to_extract = [file for partition in partition_files.values() for file in partition]\n",
        "    valid_files = set(tar_data.getnames()).intersection(files_to_extract)\n",
        "    tar_data.extractall(temp_path, members=(tarinfo for tarinfo in tar_data if tarinfo.name in valid_files))\n",
        "    print(f\"Extracted {len(valid_files)} files.\")"
      ],
      "metadata": {
        "colab": {
          "base_uri": "https://localhost:8080/"
        },
        "id": "FQ1SeoLRPCrc",
        "outputId": "68b8454a-7204-44cd-9062-54a342d3cc2b"
      },
      "execution_count": 22,
      "outputs": [
        {
          "output_type": "stream",
          "name": "stdout",
          "text": [
            "Begin extracting...\n",
            "Extracted 26243 files.\n"
          ]
        }
      ]
    },
    {
      "cell_type": "code",
      "source": [
        "all_files = [os.path.join(temp_path, img) for files in partition_files.values() for img in files]\n",
        "with tarfile.open(path + 'mathwriting-2024mini.tgz', 'w:gz') as tar_data:\n",
        "    for file_path in all_files:\n",
        "        if os.path.exists(file_path):\n",
        "            tar_data.add(file_path, arcname=os.path.relpath(file_path, temp_path))\n",
        "print(\"Writing complete\")"
      ],
      "metadata": {
        "colab": {
          "base_uri": "https://localhost:8080/"
        },
        "id": "PFv2RlruPEAj",
        "outputId": "95104d5a-8e33-4e59-eb07-2fed64a438b0"
      },
      "execution_count": 23,
      "outputs": [
        {
          "output_type": "stream",
          "name": "stdout",
          "text": [
            "Begin writing...\n",
            "Writing complete\n"
          ]
        }
      ]
    }
  ]
}